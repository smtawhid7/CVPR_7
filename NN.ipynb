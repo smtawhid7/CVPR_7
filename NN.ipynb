{
  "nbformat": 4,
  "nbformat_minor": 0,
  "metadata": {
    "colab": {
      "provenance": [],
      "gpuType": "T4"
    },
    "kernelspec": {
      "name": "python3",
      "display_name": "Python 3"
    },
    "language_info": {
      "name": "python"
    },
    "accelerator": "GPU"
  },
  "cells": [
    {
      "cell_type": "code",
      "execution_count": 1,
      "metadata": {
        "id": "GT2Qjc6l0yvi"
      },
      "outputs": [],
      "source": [
        "import numpy as np\n",
        "import matplotlib.pyplot as plt\n",
        "from sklearn.model_selection import train_test_split"
      ]
    },
    {
      "cell_type": "code",
      "source": [
        "np.random.seed(42)\n"
      ],
      "metadata": {
        "id": "qC649daB2b1-"
      },
      "execution_count": 2,
      "outputs": []
    },
    {
      "cell_type": "code",
      "source": [
        "# random data for three classes\n",
        "class1 = np.random.normal(loc=[2, 2], scale=0.5, size=(100, 2))\n",
        "class2 = np.random.normal(loc=[6, 6], scale=0.5, size=(100, 2))\n",
        "class3 = np.random.normal(loc=[4, 8], scale=0.5, size=(100, 2))\n"
      ],
      "metadata": {
        "id": "2vA6JQPy2oad"
      },
      "execution_count": 3,
      "outputs": []
    },
    {
      "cell_type": "code",
      "source": [
        "X = np.vstack((class1, class2, class3))\n",
        "Y = np.array([0] * 100 + [1] * 100 + [2] * 100).reshape(-1, 1)  # Labels"
      ],
      "metadata": {
        "id": "44-Hqwm82tAt"
      },
      "execution_count": 4,
      "outputs": []
    },
    {
      "cell_type": "code",
      "source": [
        "\n",
        "Y_one_hot = np.zeros((Y.size, 3))\n",
        "Y_one_hot[np.arange(Y.size), Y.flatten()] = 1"
      ],
      "metadata": {
        "id": "PYnDQfux2veT"
      },
      "execution_count": 5,
      "outputs": []
    },
    {
      "cell_type": "code",
      "source": [
        "# Prepare Data\n",
        "X_train, X_temp, Y_train, Y_temp = train_test_split(X, Y_one_hot, test_size=0.3, random_state=42)\n",
        "X_test, X_val, Y_test, Y_val = train_test_split(X_temp, Y_temp, test_size=0.5, random_state=42)\n"
      ],
      "metadata": {
        "id": "yTEyoU-C2yWl"
      },
      "execution_count": 6,
      "outputs": []
    },
    {
      "cell_type": "code",
      "source": [
        "# Neural Network\n",
        "class NeuralNetwork:\n",
        "    def __init__(self, input_dim, hidden_dim, output_dim):\n",
        "        self.learning_rate = 0.01\n",
        "        self.W_HI = np.random.randn(input_dim, hidden_dim) * 0.1\n",
        "        self.W_OH = np.random.randn(hidden_dim, output_dim) * 0.1\n",
        "\n",
        "    def sigmoid(self, x, der=False):\n",
        "        if der:\n",
        "            return x * (1 - x)\n",
        "        return 1 / (1 + np.exp(-x))\n",
        "\n",
        "    def feedForward(self, X):\n",
        "        self.hidden_input = np.dot(X, self.W_HI)\n",
        "        self.hidden_output = self.sigmoid(self.hidden_input)\n",
        "\n",
        "        self.output_input = np.dot(self.hidden_output, self.W_OH)\n",
        "        self.pred = self.sigmoid(self.output_input)\n",
        "        return self.pred\n",
        "\n",
        "    def backPropagation(self, X, Y):\n",
        "        output_error = Y - self.pred\n",
        "        output_delta = self.learning_rate * output_error * self.sigmoid(self.pred, der=True)\n",
        "\n",
        "        hidden_error = output_delta.dot(self.W_OH.T)\n",
        "        hidden_delta = self.learning_rate * hidden_error * self.sigmoid(self.hidden_output, der=True)\n",
        "\n",
        "        self.W_HI += X.T.dot(hidden_delta)\n",
        "        self.W_OH += self.hidden_output.T.dot(output_delta)\n",
        "\n",
        "    def train_with_validation(self, X_train, Y_train, X_val, Y_val, epochs=1000):\n",
        "        train_errors = []\n",
        "        val_errors = []\n",
        "        for epoch in range(epochs):\n",
        "            # Train  training set\n",
        "            self.feedForward(X_train)\n",
        "            self.backPropagation(X_train, Y_train)\n",
        "            train_loss = np.mean(np.square(Y_train - self.pred))\n",
        "            train_errors.append(train_loss)\n",
        "\n",
        "            # validation loss\n",
        "            val_pred = self.feedForward(X_val)\n",
        "            val_loss = np.mean(np.square(Y_val - val_pred))\n",
        "            val_errors.append(val_loss)\n",
        "\n",
        "            if epoch % 100 == 0:\n",
        "                print(f\"Epoch {epoch}: Train Loss = {train_loss:.4f}, Validation Loss = {val_loss:.4f}\")\n",
        "\n",
        "        return train_errors, val_errors\n",
        "\n",
        "    def evaluate_accuracy(self, X, Y):\n",
        "        predictions = self.feedForward(X)\n",
        "        accuracy = np.mean(np.argmax(predictions, axis=1) == np.argmax(Y, axis=1))\n",
        "        return accuracy\n",
        "\n",
        "    def train_with_accuracy(self, X_train, Y_train, X_val, Y_val, epochs=1000):\n",
        "        train_accuracies = []\n",
        "        val_accuracies = []\n",
        "        for epoch in range(epochs):\n",
        "            # Train training set\n",
        "            self.feedForward(X_train)\n",
        "            self.backPropagation(X_train, Y_train)\n",
        "            train_accuracy = self.evaluate_accuracy(X_train, Y_train)\n",
        "            train_accuracies.append(train_accuracy)\n",
        "\n",
        "            # Validate validation set\n",
        "            val_pred = self.feedForward(X_val)\n",
        "            val_accuracy = self.evaluate_accuracy(X_val, Y_val)\n",
        "            val_accuracies.append(val_accuracy)\n",
        "\n",
        "            if epoch % 100 == 0:\n",
        "                print(f\"Epoch {epoch}: Train Accuracy = {train_accuracy:.4f}, Validation Accuracy = {val_accuracy:.4f}\")\n",
        "\n",
        "        return train_accuracies, val_accuracies\n"
      ],
      "metadata": {
        "id": "5XYB30KL21T1"
      },
      "execution_count": 7,
      "outputs": []
    },
    {
      "cell_type": "code",
      "source": [
        "# Initialize the nn\n",
        "input_dim = X_train.shape[1]\n",
        "hidden_dim = 10\n",
        "output_dim = Y_train.shape[1]\n",
        "\n",
        "NN = NeuralNetwork(input_dim, hidden_dim, output_dim)"
      ],
      "metadata": {
        "id": "Z0l6FvOU29Dl"
      },
      "execution_count": 8,
      "outputs": []
    },
    {
      "cell_type": "code",
      "source": [
        "#Train the nn\n",
        "epochs = 1000\n"
      ],
      "metadata": {
        "id": "-rsyZnnC3ADb"
      },
      "execution_count": 9,
      "outputs": []
    },
    {
      "cell_type": "code",
      "source": [
        "# Track losses\n",
        "train_losses, val_losses = NN.train_with_validation(X_train, Y_train, X_val, Y_val, epochs)\n"
      ],
      "metadata": {
        "colab": {
          "base_uri": "https://localhost:8080/"
        },
        "id": "NRZsYzxp3DVu",
        "outputId": "16374c1b-c7d7-4dc9-9324-6d9fb34dd562"
      },
      "execution_count": 10,
      "outputs": [
        {
          "output_type": "stream",
          "name": "stdout",
          "text": [
            "Epoch 0: Train Loss = 0.2438, Validation Loss = 0.2289\n",
            "Epoch 100: Train Loss = 0.1494, Validation Loss = 0.1462\n",
            "Epoch 200: Train Loss = 0.0875, Validation Loss = 0.0846\n",
            "Epoch 300: Train Loss = 0.0484, Validation Loss = 0.0480\n",
            "Epoch 400: Train Loss = 0.0309, Validation Loss = 0.0310\n",
            "Epoch 500: Train Loss = 0.0226, Validation Loss = 0.0228\n",
            "Epoch 600: Train Loss = 0.0179, Validation Loss = 0.0181\n",
            "Epoch 700: Train Loss = 0.0149, Validation Loss = 0.0151\n",
            "Epoch 800: Train Loss = 0.0129, Validation Loss = 0.0131\n",
            "Epoch 900: Train Loss = 0.0114, Validation Loss = 0.0115\n"
          ]
        }
      ]
    },
    {
      "cell_type": "code",
      "source": [
        "# Plot training vs validation loss\n",
        "plt.plot(train_losses, label=\"Train Loss\")\n",
        "plt.plot(val_losses, label=\"Validation Loss\")\n",
        "plt.title(\"Training vs Validation Loss\")\n",
        "plt.xlabel(\"Epoch\")\n",
        "plt.ylabel(\"Loss\")\n",
        "plt.legend()\n",
        "plt.show()\n"
      ],
      "metadata": {
        "colab": {
          "base_uri": "https://localhost:8080/",
          "height": 472
        },
        "id": "NmJEkfYF3JND",
        "outputId": "6c164c7f-8348-45cb-e427-457fa4985745"
      },
      "execution_count": 11,
      "outputs": [
        {
          "output_type": "display_data",
          "data": {
            "text/plain": [
              "<Figure size 640x480 with 1 Axes>"
            ],
            "image/png": "[encoded data removed]"
          },
          "metadata": {}
        }
      ]
    },
    {
      "cell_type": "code",
      "source": [
        "# Track accuracies\n",
        "train_accuracies, val_accuracies = NN.train_with_accuracy(X_train, Y_train, X_val, Y_val, epochs)\n"
      ],
      "metadata": {
        "colab": {
          "base_uri": "https://localhost:8080/"
        },
        "id": "2ps1pr7-3Kb2",
        "outputId": "479d3a2b-77eb-490d-e374-4806bd97112b"
      },
      "execution_count": 12,
      "outputs": [
        {
          "output_type": "stream",
          "name": "stdout",
          "text": [
            "Epoch 0: Train Accuracy = 1.0000, Validation Accuracy = 1.0000\n",
            "Epoch 100: Train Accuracy = 1.0000, Validation Accuracy = 1.0000\n",
            "Epoch 200: Train Accuracy = 1.0000, Validation Accuracy = 1.0000\n",
            "Epoch 300: Train Accuracy = 1.0000, Validation Accuracy = 1.0000\n",
            "Epoch 400: Train Accuracy = 1.0000, Validation Accuracy = 1.0000\n",
            "Epoch 500: Train Accuracy = 1.0000, Validation Accuracy = 1.0000\n",
            "Epoch 600: Train Accuracy = 1.0000, Validation Accuracy = 1.0000\n",
            "Epoch 700: Train Accuracy = 1.0000, Validation Accuracy = 1.0000\n",
            "Epoch 800: Train Accuracy = 1.0000, Validation Accuracy = 1.0000\n",
            "Epoch 900: Train Accuracy = 1.0000, Validation Accuracy = 1.0000\n"
          ]
        }
      ]
    },
    {
      "cell_type": "code",
      "source": [
        "# Plot training vs validation accuracy\n",
        "plt.plot(train_accuracies, label=\"Train Accuracy\")\n",
        "plt.plot(val_accuracies, label=\"Validation Accuracy\")\n",
        "plt.title(\"Training vs Validation Accuracy\")\n",
        "plt.xlabel(\"Epoch\")\n",
        "plt.ylabel(\"Accuracy\")\n",
        "plt.legend()\n",
        "plt.show()"
      ],
      "metadata": {
        "colab": {
          "base_uri": "https://localhost:8080/",
          "height": 472
        },
        "id": "t8SMpDIP3Ozz",
        "outputId": "1bea621f-ecfe-474f-b307-4143db080899"
      },
      "execution_count": 13,
      "outputs": [
        {
          "output_type": "display_data",
          "data": {
            "text/plain": [
              "<Figure size 640x480 with 1 Axes>"
            ],
            "image/png": "[encoded data removed]"
          },
          "metadata": {}
        }
      ]
    },
    {
      "cell_type": "code",
      "source": [
        "# Evaluate the Model\n",
        "train_accuracy = NN.evaluate_accuracy(X_train, Y_train)\n",
        "val_accuracy = NN.evaluate_accuracy(X_val, Y_val)\n",
        "test_accuracy = NN.evaluate_accuracy(X_test, Y_test)"
      ],
      "metadata": {
        "id": "mU2husAt6hit"
      },
      "execution_count": 14,
      "outputs": []
    },
    {
      "cell_type": "code",
      "source": [
        "print(f\"Train Accuracy: {train_accuracy * 100:.2f}%\")\n",
        "print(f\"Validation Accuracy: {val_accuracy * 100:.2f}%\")\n",
        "print(f\"Test Accuracy: {test_accuracy * 100:.2f}%\")"
      ],
      "metadata": {
        "colab": {
          "base_uri": "https://localhost:8080/"
        },
        "id": "8sP-riH26mSE",
        "outputId": "bb0b5204-428d-455d-cb6a-bdbf96268a10"
      },
      "execution_count": 15,
      "outputs": [
        {
          "output_type": "stream",
          "name": "stdout",
          "text": [
            "Train Accuracy: 100.00%\n",
            "Validation Accuracy: 100.00%\n",
            "Test Accuracy: 100.00%\n"
          ]
        }
      ]
    },
    {
      "cell_type": "markdown",
      "source": [
        "Train Accuracy: 100.00%\n",
        "Validation Accuracy: 100.00%\n",
        "Test Accuracy: 100.00%\n",
        "\n",
        "I think its not overfitting because I check this in my code . also No signs of overfitting: The training and validation losses are following similar trends, and the gap between them remains small.\n",
        "I happen some reason-\n",
        "*dataset is small and classes are well-separated\n",
        "*simple architecture with a reasonable number of parameters\n",
        "\n",
        "Also I showed graph trainning vs validation loss and accrucy .I think can't do anything about all are 100% also it's positive, as it suggests that the model is not just memorizing the training data but is learning patterns that generalize well to the validation set ."
      ],
      "metadata": {
        "id": "1XET_VX37KCk"
      }
    },
    {
      "cell_type": "code",
      "source": [
        "\n",
        "print(\"Training Complete!\")\n",
        "print(\"I have successfully trained the model, and it appears to be performing well. That's 100% \")\n",
        "print(\"Looking forward to your feedback.\")\n"
      ],
      "metadata": {
        "colab": {
          "base_uri": "https://localhost:8080/"
        },
        "id": "iTTjPyON9gfn",
        "outputId": "695cbb98-cf01-4b1d-b372-bdf5f680775d"
      },
      "execution_count": 16,
      "outputs": [
        {
          "output_type": "stream",
          "name": "stdout",
          "text": [
            "Training Complete!\n",
            "I have successfully trained the model, and it appears to be performing well. That's 100% \n",
            "Looking forward to your feedback.\n"
          ]
        }
      ]
    }
  ]
}